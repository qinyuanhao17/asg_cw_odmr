{
 "cells": [
  {
   "cell_type": "code",
   "execution_count": 2,
   "metadata": {},
   "outputs": [],
   "source": [
    "import os\n",
    "import re\n",
    "import numpy as np\n",
    "import pandas as pd\n",
    "import matplotlib as plt"
   ]
  },
  {
   "cell_type": "code",
   "execution_count": 5,
   "metadata": {},
   "outputs": [
    {
     "data": {
      "text/plain": [
       "['Dev0_T3_2023_09_04_12_33_51_s0.txt',\n",
       " 'Dev0_T3_2023_09_04_12_33_51_s1.txt',\n",
       " 'Dev0_T3_2023_09_04_12_33_51_s2.txt',\n",
       " 'Dev0_T3_2023_09_04_12_33_51_s3.txt',\n",
       " 'Dev0_T3_2023_09_04_12_33_51_s4.txt',\n",
       " 'Dev0_T3_2023_09_04_12_33_51_s5.txt',\n",
       " 'Dev0_T3_2023_09_04_12_33_51_s6.txt',\n",
       " 'Dev0_T3_2023_09_04_12_33_51_s7.txt',\n",
       " 'Dev0_T3_2023_09_04_12_33_51_s8.txt',\n",
       " 'Dev0_T3_2023_09_04_12_33_51_s9.txt',\n",
       " 'Dev0_T3_2023_09_04_12_33_51_s10.txt',\n",
       " 'Dev0_T3_2023_09_04_12_33_51_s11.txt',\n",
       " 'Dev0_T3_2023_09_04_12_33_51_s12.txt',\n",
       " 'Dev0_T3_2023_09_04_12_33_51_s13.txt',\n",
       " 'Dev0_T3_2023_09_04_12_33_51_s14.txt',\n",
       " 'Dev0_T3_2023_09_04_12_33_51_s15.txt',\n",
       " 'Dev0_T3_2023_09_04_12_33_51_s16.txt',\n",
       " 'Dev0_T3_2023_09_04_12_33_51_s17.txt',\n",
       " 'Dev0_T3_2023_09_04_12_33_51_s18.txt',\n",
       " 'Dev0_T3_2023_09_04_12_33_51_s19.txt',\n",
       " 'Dev0_T3_2023_09_04_12_33_51_s20.txt',\n",
       " 'Dev0_T3_2023_09_04_12_33_51_s21.txt',\n",
       " 'Dev0_T3_2023_09_04_12_33_51_s22.txt',\n",
       " 'Dev0_T3_2023_09_04_12_33_51_s23.txt',\n",
       " 'Dev0_T3_2023_09_04_12_33_51_s24.txt',\n",
       " 'Dev0_T3_2023_09_04_12_33_51_s25.txt',\n",
       " 'Dev0_T3_2023_09_04_12_33_51_s26.txt',\n",
       " 'Dev0_T3_2023_09_04_12_33_51_s27.txt',\n",
       " 'Dev0_T3_2023_09_04_12_33_51_s28.txt',\n",
       " 'Dev0_T3_2023_09_04_12_33_51_s29.txt',\n",
       " 'Dev0_T3_2023_09_04_12_33_51_s30.txt',\n",
       " 'Dev0_T3_2023_09_04_12_33_51_s31.txt',\n",
       " 'Dev0_T3_2023_09_04_12_33_51_s32.txt',\n",
       " 'Dev0_T3_2023_09_04_12_33_51_s33.txt',\n",
       " 'Dev0_T3_2023_09_04_12_33_51_s34.txt',\n",
       " 'Dev0_T3_2023_09_04_12_33_51_s35.txt',\n",
       " 'Dev0_T3_2023_09_04_12_33_51_s36.txt',\n",
       " 'Dev0_T3_2023_09_04_12_33_51_s37.txt']"
      ]
     },
     "execution_count": 5,
     "metadata": {},
     "output_type": "execute_result"
    }
   ],
   "source": [
    "root_dir = r'D:\\cw_odmr_data\\20230904_cw_odmr_SiC_bulk_V1_ensemble_RF50to550MHz_tempRT_pump730nm_1'\n",
    "data_list = os.listdir(r'D:\\cw_odmr_data\\20230904_cw_odmr_SiC_bulk_V1_ensemble_RF50to550MHz_tempRT_pump730nm_1')\n",
    "pattern = r\"s(\\d+)\"\n",
    "data_list.sort(key= lambda item: int(re.findall(pattern,item)[0]))\n",
    "data_list"
   ]
  },
  {
   "cell_type": "code",
   "execution_count": 6,
   "metadata": {},
   "outputs": [
    {
     "name": "stderr",
     "output_type": "stream",
     "text": [
      "C:\\Users\\qinyu\\AppData\\Local\\Temp\\ipykernel_11800\\1401043192.py:1: FutureWarning: The default dtype for empty Series will be 'object' instead of 'float64' in a future version. Specify a dtype explicitly to silence this warning.\n",
      "  v_counts = pd.Series([])\n"
     ]
    }
   ],
   "source": [
    "v_counts = pd.Series([])\n",
    "for item in data_list:\n",
    "    data_path = os.path.join(root_dir, item)\n",
    "\n",
    "    if int(re.findall(pattern,item)[0]) == 0:\n",
    "        \n",
    "        df = pd.read_table(data_path, skiprows=10, header=0)\n",
    "    else:\n",
    "        df = pd.read_table(data_path, header=None, names=['Flag', 'Channel', 'Time(ps)', 'Sync'])\n",
    "    intensity_result = df['Sync']\n",
    "    counts = intensity_result.value_counts(sort=False)\n",
    "    v_counts = pd.concat([v_counts, counts])\n",
    "    result = v_counts.groupby(v_counts.index).sum()\n",
    "\n"
   ]
  },
  {
   "cell_type": "code",
   "execution_count": 7,
   "metadata": {},
   "outputs": [
    {
     "ename": "OSError",
     "evalue": "Cannot save file into a non-existent directory: 'D:\\cw_odmr_data\\intensity_counts_1'",
     "output_type": "error",
     "traceback": [
      "\u001b[1;31m---------------------------------------------------------------------------\u001b[0m",
      "\u001b[1;31mOSError\u001b[0m                                   Traceback (most recent call last)",
      "Cell \u001b[1;32mIn[7], line 1\u001b[0m\n\u001b[1;32m----> 1\u001b[0m result\u001b[39m.\u001b[39;49mto_csv(\u001b[39m'\u001b[39;49m\u001b[39mD:\u001b[39;49m\u001b[39m\\\u001b[39;49m\u001b[39mcw_odmr_data\u001b[39;49m\u001b[39m\\\u001b[39;49m\u001b[39mintensity_counts_1\u001b[39;49m\u001b[39m\\\u001b[39;49m\u001b[39mintensity_counts.csv\u001b[39;49m\u001b[39m'\u001b[39;49m)\n",
      "File \u001b[1;32mf:\\anaconda\\envs\\asg_cw_odmr\\lib\\site-packages\\pandas\\util\\_decorators.py:211\u001b[0m, in \u001b[0;36mdeprecate_kwarg.<locals>._deprecate_kwarg.<locals>.wrapper\u001b[1;34m(*args, **kwargs)\u001b[0m\n\u001b[0;32m    209\u001b[0m     \u001b[39melse\u001b[39;00m:\n\u001b[0;32m    210\u001b[0m         kwargs[new_arg_name] \u001b[39m=\u001b[39m new_arg_value\n\u001b[1;32m--> 211\u001b[0m \u001b[39mreturn\u001b[39;00m func(\u001b[39m*\u001b[39margs, \u001b[39m*\u001b[39m\u001b[39m*\u001b[39mkwargs)\n",
      "File \u001b[1;32mf:\\anaconda\\envs\\asg_cw_odmr\\lib\\site-packages\\pandas\\core\\generic.py:3720\u001b[0m, in \u001b[0;36mNDFrame.to_csv\u001b[1;34m(self, path_or_buf, sep, na_rep, float_format, columns, header, index, index_label, mode, encoding, compression, quoting, quotechar, lineterminator, chunksize, date_format, doublequote, escapechar, decimal, errors, storage_options)\u001b[0m\n\u001b[0;32m   3709\u001b[0m df \u001b[39m=\u001b[39m \u001b[39mself\u001b[39m \u001b[39mif\u001b[39;00m \u001b[39misinstance\u001b[39m(\u001b[39mself\u001b[39m, ABCDataFrame) \u001b[39melse\u001b[39;00m \u001b[39mself\u001b[39m\u001b[39m.\u001b[39mto_frame()\n\u001b[0;32m   3711\u001b[0m formatter \u001b[39m=\u001b[39m DataFrameFormatter(\n\u001b[0;32m   3712\u001b[0m     frame\u001b[39m=\u001b[39mdf,\n\u001b[0;32m   3713\u001b[0m     header\u001b[39m=\u001b[39mheader,\n\u001b[1;32m   (...)\u001b[0m\n\u001b[0;32m   3717\u001b[0m     decimal\u001b[39m=\u001b[39mdecimal,\n\u001b[0;32m   3718\u001b[0m )\n\u001b[1;32m-> 3720\u001b[0m \u001b[39mreturn\u001b[39;00m DataFrameRenderer(formatter)\u001b[39m.\u001b[39;49mto_csv(\n\u001b[0;32m   3721\u001b[0m     path_or_buf,\n\u001b[0;32m   3722\u001b[0m     lineterminator\u001b[39m=\u001b[39;49mlineterminator,\n\u001b[0;32m   3723\u001b[0m     sep\u001b[39m=\u001b[39;49msep,\n\u001b[0;32m   3724\u001b[0m     encoding\u001b[39m=\u001b[39;49mencoding,\n\u001b[0;32m   3725\u001b[0m     errors\u001b[39m=\u001b[39;49merrors,\n\u001b[0;32m   3726\u001b[0m     compression\u001b[39m=\u001b[39;49mcompression,\n\u001b[0;32m   3727\u001b[0m     quoting\u001b[39m=\u001b[39;49mquoting,\n\u001b[0;32m   3728\u001b[0m     columns\u001b[39m=\u001b[39;49mcolumns,\n\u001b[0;32m   3729\u001b[0m     index_label\u001b[39m=\u001b[39;49mindex_label,\n\u001b[0;32m   3730\u001b[0m     mode\u001b[39m=\u001b[39;49mmode,\n\u001b[0;32m   3731\u001b[0m     chunksize\u001b[39m=\u001b[39;49mchunksize,\n\u001b[0;32m   3732\u001b[0m     quotechar\u001b[39m=\u001b[39;49mquotechar,\n\u001b[0;32m   3733\u001b[0m     date_format\u001b[39m=\u001b[39;49mdate_format,\n\u001b[0;32m   3734\u001b[0m     doublequote\u001b[39m=\u001b[39;49mdoublequote,\n\u001b[0;32m   3735\u001b[0m     escapechar\u001b[39m=\u001b[39;49mescapechar,\n\u001b[0;32m   3736\u001b[0m     storage_options\u001b[39m=\u001b[39;49mstorage_options,\n\u001b[0;32m   3737\u001b[0m )\n",
      "File \u001b[1;32mf:\\anaconda\\envs\\asg_cw_odmr\\lib\\site-packages\\pandas\\util\\_decorators.py:211\u001b[0m, in \u001b[0;36mdeprecate_kwarg.<locals>._deprecate_kwarg.<locals>.wrapper\u001b[1;34m(*args, **kwargs)\u001b[0m\n\u001b[0;32m    209\u001b[0m     \u001b[39melse\u001b[39;00m:\n\u001b[0;32m    210\u001b[0m         kwargs[new_arg_name] \u001b[39m=\u001b[39m new_arg_value\n\u001b[1;32m--> 211\u001b[0m \u001b[39mreturn\u001b[39;00m func(\u001b[39m*\u001b[39margs, \u001b[39m*\u001b[39m\u001b[39m*\u001b[39mkwargs)\n",
      "File \u001b[1;32mf:\\anaconda\\envs\\asg_cw_odmr\\lib\\site-packages\\pandas\\io\\formats\\format.py:1189\u001b[0m, in \u001b[0;36mDataFrameRenderer.to_csv\u001b[1;34m(self, path_or_buf, encoding, sep, columns, index_label, mode, compression, quoting, quotechar, lineterminator, chunksize, date_format, doublequote, escapechar, errors, storage_options)\u001b[0m\n\u001b[0;32m   1168\u001b[0m     created_buffer \u001b[39m=\u001b[39m \u001b[39mFalse\u001b[39;00m\n\u001b[0;32m   1170\u001b[0m csv_formatter \u001b[39m=\u001b[39m CSVFormatter(\n\u001b[0;32m   1171\u001b[0m     path_or_buf\u001b[39m=\u001b[39mpath_or_buf,\n\u001b[0;32m   1172\u001b[0m     lineterminator\u001b[39m=\u001b[39mlineterminator,\n\u001b[1;32m   (...)\u001b[0m\n\u001b[0;32m   1187\u001b[0m     formatter\u001b[39m=\u001b[39m\u001b[39mself\u001b[39m\u001b[39m.\u001b[39mfmt,\n\u001b[0;32m   1188\u001b[0m )\n\u001b[1;32m-> 1189\u001b[0m csv_formatter\u001b[39m.\u001b[39;49msave()\n\u001b[0;32m   1191\u001b[0m \u001b[39mif\u001b[39;00m created_buffer:\n\u001b[0;32m   1192\u001b[0m     \u001b[39massert\u001b[39;00m \u001b[39misinstance\u001b[39m(path_or_buf, StringIO)\n",
      "File \u001b[1;32mf:\\anaconda\\envs\\asg_cw_odmr\\lib\\site-packages\\pandas\\io\\formats\\csvs.py:241\u001b[0m, in \u001b[0;36mCSVFormatter.save\u001b[1;34m(self)\u001b[0m\n\u001b[0;32m    237\u001b[0m \u001b[39m\u001b[39m\u001b[39m\"\"\"\u001b[39;00m\n\u001b[0;32m    238\u001b[0m \u001b[39mCreate the writer & save.\u001b[39;00m\n\u001b[0;32m    239\u001b[0m \u001b[39m\"\"\"\u001b[39;00m\n\u001b[0;32m    240\u001b[0m \u001b[39m# apply compression and byte/text conversion\u001b[39;00m\n\u001b[1;32m--> 241\u001b[0m \u001b[39mwith\u001b[39;00m get_handle(\n\u001b[0;32m    242\u001b[0m     \u001b[39mself\u001b[39;49m\u001b[39m.\u001b[39;49mfilepath_or_buffer,\n\u001b[0;32m    243\u001b[0m     \u001b[39mself\u001b[39;49m\u001b[39m.\u001b[39;49mmode,\n\u001b[0;32m    244\u001b[0m     encoding\u001b[39m=\u001b[39;49m\u001b[39mself\u001b[39;49m\u001b[39m.\u001b[39;49mencoding,\n\u001b[0;32m    245\u001b[0m     errors\u001b[39m=\u001b[39;49m\u001b[39mself\u001b[39;49m\u001b[39m.\u001b[39;49merrors,\n\u001b[0;32m    246\u001b[0m     compression\u001b[39m=\u001b[39;49m\u001b[39mself\u001b[39;49m\u001b[39m.\u001b[39;49mcompression,\n\u001b[0;32m    247\u001b[0m     storage_options\u001b[39m=\u001b[39;49m\u001b[39mself\u001b[39;49m\u001b[39m.\u001b[39;49mstorage_options,\n\u001b[0;32m    248\u001b[0m ) \u001b[39mas\u001b[39;00m handles:\n\u001b[0;32m    249\u001b[0m \n\u001b[0;32m    250\u001b[0m     \u001b[39m# Note: self.encoding is irrelevant here\u001b[39;00m\n\u001b[0;32m    251\u001b[0m     \u001b[39mself\u001b[39m\u001b[39m.\u001b[39mwriter \u001b[39m=\u001b[39m csvlib\u001b[39m.\u001b[39mwriter(\n\u001b[0;32m    252\u001b[0m         handles\u001b[39m.\u001b[39mhandle,\n\u001b[0;32m    253\u001b[0m         lineterminator\u001b[39m=\u001b[39m\u001b[39mself\u001b[39m\u001b[39m.\u001b[39mlineterminator,\n\u001b[1;32m   (...)\u001b[0m\n\u001b[0;32m    258\u001b[0m         quotechar\u001b[39m=\u001b[39m\u001b[39mself\u001b[39m\u001b[39m.\u001b[39mquotechar,\n\u001b[0;32m    259\u001b[0m     )\n\u001b[0;32m    261\u001b[0m     \u001b[39mself\u001b[39m\u001b[39m.\u001b[39m_save()\n",
      "File \u001b[1;32mf:\\anaconda\\envs\\asg_cw_odmr\\lib\\site-packages\\pandas\\io\\common.py:734\u001b[0m, in \u001b[0;36mget_handle\u001b[1;34m(path_or_buf, mode, encoding, compression, memory_map, is_text, errors, storage_options)\u001b[0m\n\u001b[0;32m    732\u001b[0m \u001b[39m# Only for write methods\u001b[39;00m\n\u001b[0;32m    733\u001b[0m \u001b[39mif\u001b[39;00m \u001b[39m\"\u001b[39m\u001b[39mr\u001b[39m\u001b[39m\"\u001b[39m \u001b[39mnot\u001b[39;00m \u001b[39min\u001b[39;00m mode \u001b[39mand\u001b[39;00m is_path:\n\u001b[1;32m--> 734\u001b[0m     check_parent_directory(\u001b[39mstr\u001b[39;49m(handle))\n\u001b[0;32m    736\u001b[0m \u001b[39mif\u001b[39;00m compression:\n\u001b[0;32m    737\u001b[0m     \u001b[39mif\u001b[39;00m compression \u001b[39m!=\u001b[39m \u001b[39m\"\u001b[39m\u001b[39mzstd\u001b[39m\u001b[39m\"\u001b[39m:\n\u001b[0;32m    738\u001b[0m         \u001b[39m# compression libraries do not like an explicit text-mode\u001b[39;00m\n",
      "File \u001b[1;32mf:\\anaconda\\envs\\asg_cw_odmr\\lib\\site-packages\\pandas\\io\\common.py:597\u001b[0m, in \u001b[0;36mcheck_parent_directory\u001b[1;34m(path)\u001b[0m\n\u001b[0;32m    595\u001b[0m parent \u001b[39m=\u001b[39m Path(path)\u001b[39m.\u001b[39mparent\n\u001b[0;32m    596\u001b[0m \u001b[39mif\u001b[39;00m \u001b[39mnot\u001b[39;00m parent\u001b[39m.\u001b[39mis_dir():\n\u001b[1;32m--> 597\u001b[0m     \u001b[39mraise\u001b[39;00m \u001b[39mOSError\u001b[39;00m(\u001b[39mrf\u001b[39m\u001b[39m\"\u001b[39m\u001b[39mCannot save file into a non-existent directory: \u001b[39m\u001b[39m'\u001b[39m\u001b[39m{\u001b[39;00mparent\u001b[39m}\u001b[39;00m\u001b[39m'\u001b[39m\u001b[39m\"\u001b[39m)\n",
      "\u001b[1;31mOSError\u001b[0m: Cannot save file into a non-existent directory: 'D:\\cw_odmr_data\\intensity_counts_1'"
     ]
    },
    {
     "ename": "",
     "evalue": "",
     "output_type": "error",
     "traceback": [
      "\u001b[1;31mThe Kernel crashed while executing code in the the current cell or a previous cell. Please review the code in the cell(s) to identify a possible cause of the failure. Click <a href='https://aka.ms/vscodeJupyterKernelCrash'>here</a> for more info. View Jupyter <a href='command:jupyter.viewOutput'>log</a> for further details."
     ]
    }
   ],
   "source": [
    "result.to_csv('D:\\cw_odmr_data\\intensity_counts_1\\intensity_counts.csv')"
   ]
  },
  {
   "cell_type": "code",
   "execution_count": null,
   "metadata": {},
   "outputs": [],
   "source": [
    "# v1 = pd.Series([])\n",
    "# test_empty_series1 = pd.concat([v1, v_counts1])\n",
    "# test_empty_series = pd.concat([test_empty_series1, v_counts2])\n",
    "# result = test_empty_series.groupby(test_empty_series.index).sum()\n",
    "# result.to_csv('test_empty_series_merge.csv')\n",
    "# result.loc[4382000]"
   ]
  },
  {
   "cell_type": "code",
   "execution_count": null,
   "metadata": {},
   "outputs": [],
   "source": [
    "# df0 = pd.DataFrame([])\n",
    "# df1 = pd.read_table(os.path.join(root_dir,data_list[0]), skiprows=10, header=0)\n",
    "# df2 = pd.read_table(os.path.join(root_dir,data_list[1]), header=None, names=['Flag', 'Channel', 'Time(ps)', 'Sync'])\n",
    "# v_counts1 = df1['Sync'].value_counts(sort=False)\n",
    "# v_counts2 = df2['Sync'].value_counts(sort=False)\n",
    "# print(v_counts1)\n",
    "# print(v_counts2)\n",
    "# # 使用concat函数将两个Series纵向合并\n",
    "# merged_series = pd.concat([v_counts1, v_counts2])\n",
    "\n",
    "# # 使用groupby和sum对相同的值进行求和\n",
    "# result = merged_series.groupby(merged_series.index).sum()\n",
    "# result.to_csv('test_value_merge.csv')\n",
    "# # result2 = pd.concat([result1, df2], ignore_index=True)\n",
    "# # result2.to_csv('test_concat.csv')"
   ]
  }
 ],
 "metadata": {
  "kernelspec": {
   "display_name": "Python 3",
   "language": "python",
   "name": "python3"
  },
  "language_info": {
   "codemirror_mode": {
    "name": "ipython",
    "version": 3
   },
   "file_extension": ".py",
   "mimetype": "text/x-python",
   "name": "python",
   "nbconvert_exporter": "python",
   "pygments_lexer": "ipython3",
   "version": "3.9.15"
  },
  "orig_nbformat": 4
 },
 "nbformat": 4,
 "nbformat_minor": 2
}
